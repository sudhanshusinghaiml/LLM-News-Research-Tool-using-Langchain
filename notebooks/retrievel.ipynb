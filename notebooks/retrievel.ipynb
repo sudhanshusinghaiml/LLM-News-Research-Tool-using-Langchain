{
 "cells": [
  {
   "cell_type": "code",
   "execution_count": 1,
   "metadata": {},
   "outputs": [],
   "source": [
    "import os\n",
    "import streamlit as st\n",
    "import pickle\n",
    "import time\n",
    "import langchain\n",
    "\n",
    "from langchain_openai import OpenAI, OpenAIEmbeddings\n",
    "from langchain.chains.qa_with_sources.retrieval import RetrievalQAWithSourcesChain\n",
    "from langchain.chains.qa_with_sources.loading import load_qa_with_sources_chain\n",
    "from langchain_text_splitters.character import RecursiveCharacterTextSplitter\n",
    "from langchain_community.document_loaders.url import UnstructuredURLLoader\n",
    "from langchain_community.vectorstores.faiss import FAISS"
   ]
  },
  {
   "cell_type": "code",
   "execution_count": 2,
   "metadata": {},
   "outputs": [],
   "source": [
    "#load openAI api key\n",
    "os.environ['OPENAI_API_KEY'] = \"XXXXXXXXXXXXXX\""
   ]
  },
  {
   "cell_type": "code",
   "execution_count": 3,
   "metadata": {},
   "outputs": [],
   "source": [
    "llm = OpenAI(temperature= 0.9, max_tokens=500)"
   ]
  },
  {
   "cell_type": "markdown",
   "metadata": {},
   "source": [
    "## Load Data"
   ]
  },
  {
   "cell_type": "code",
   "execution_count": 4,
   "metadata": {},
   "outputs": [
    {
     "data": {
      "text/plain": [
       "2"
      ]
     },
     "execution_count": 4,
     "metadata": {},
     "output_type": "execute_result"
    }
   ],
   "source": [
    "loaders = UnstructuredURLLoader(urls=[\n",
    "    \"https://www.moneycontrol.com/news/business/markets/wall-street-rises-as-tesla-soars-on-ai-optimism-11351111.html\",\n",
    "    \"https://www.moneycontrol.com/news/business/tata-motors-launches-punch-icng-price-starts-at-rs-7-1-lakh-11098751.html\"\n",
    "])\n",
    "data = loaders.load() \n",
    "len(data)"
   ]
  },
  {
   "cell_type": "code",
   "execution_count": 5,
   "metadata": {},
   "outputs": [
    {
     "data": {
      "text/plain": [
       "Document(metadata={'source': 'https://www.moneycontrol.com/news/business/markets/wall-street-rises-as-tesla-soars-on-ai-optimism-11351111.html'}, page_content='English\\n\\nHindi\\n\\nGujarati\\n\\nSpecials\\n\\nHello, Login\\n\\nHello, Login\\n\\nLog-inor Sign-Up\\n\\nMy Account\\n\\nMy Profile\\n\\nMy Portfolio\\n\\nMy Watchlist\\n\\nFREE Credit Score₹100 Cash Reward\\n\\nFixed Deposits\\n\\nMy Alerts\\n\\nMy Messages\\n\\nPrice Alerts\\n\\nMy Profile\\n\\nMy PRO\\n\\nMy Portfolio\\n\\nMy Watchlist\\n\\nFREE Credit Score₹100 Cash Reward\\n\\nFixed Deposits\\n\\nMy Alerts\\n\\nMy Messages\\n\\nPrice Alerts\\n\\nLogout\\n\\nChat with Us\\n\\nDownload App\\n\\nFollow us on:\\n\\nGo Ad-Free\\n\\nMy Alerts\\n\\n>->MC_ENG_DESKTOP/MC_ENG_NEWS/MC_ENG_MARKETS_AS/MC_ENG_ROS_NWS_MKTS_AS_ATF_728\\n\\nGo PRO @₹99 PRO\\n\\nAdvertisement\\n\\nRemove Ad\\n\\nBusiness\\n\\nMarkets\\n\\nStocks\\n\\nEconomy\\n\\nCompanies\\n\\nTrends\\n\\nIPO\\n\\nOpinion\\n\\nEV Special\\n\\nHomeNewsBusinessMarketsWall Street rises as Tesla soars on AI optimism\\n\\nTrending Topics\\n\\nSensex TodayIndusInd Bank Mutual FundSaraswati Saree Share PriceOla Electric share priceHi Tech Pipes QIP\\n\\nWall Street rises as Tesla soars on AI optimism\\n\\nTesla (TSLA.O) rallied 10% after Morgan Stanley upgraded the electric car maker to \"overweight\" from \"equal-weight,\" saying its Dojo supercomputer could boost the company\\'s market value by nearly $600 billion.\\n\\nReuters\\n\\nSeptember 12, 2023 / 06:56 IST\\n\\nWall Street rises as Tesla soars on AI optimism\\n\\nThe Nasdaq closed sharply higher on Monday as Tesla surged on optimism around artificial intelligence and investors awaited inflation data due later this week.\\n\\nTeslaÂ (TSLA.O)Â rallied 10% after Morgan StanleyÂ upgradedÂ the electric car maker to \"overweight\" from \"equal-weight,\" saying its Dojo supercomputer could boost the company\\'s market value by nearly $600 billion.\\n\\nStory continues below Advertisement\\n\\nRemove Ad\\n\\nOther megacaps also rose, with AmazonÂ (AMZN.O)Â climbing 3.5% and MicrosoftÂ (MSFT.O)Â adding 1.1%.\\n\\nMeta PlatformsÂ (META.O)Â jumped 3.25% after a report on Sunday said the social media platform was working on a new, more powerful AI system.\\n\\nWalt DisneyÂ (DIS.N)Â added 1.2% and Charter CommunicationsÂ (CHTR.O)Â rose 3.2% after theyÂ reached a dealÂ for Disney\\'s programming, including ESPN, to return to the Spectrum cable service just hours ahead of the start of NFL \"Monday Night Football.\"\\n\\nRelated stories\\n\\nS&P 500 ends up, win streak at 5; Nasdaq ekes out gain even as Alphabet weighs\\n\\nS&P 500 ends up, but near flat for week after Monday\\'s steep selloff\\n\\nS&P 500 and Nasdaq rebound as Fed eases recession fears\\n\\nInvestors are looking to August consumer price index data due on Wednesday for clues about how close the Federal Reserve may be to ending its campaign of interest rate hikes. That will be followed by producer price data on Thursday.\\n\\nA New York Fed surveyÂ showedÂ Americans\\' overall views on inflation were little changed in August, as they predicted rising costs for homes and food, while expecting bleaker personal financial health.\\n\\n\"What we\\'re seeing is a lot of positive sentiment that is really tied to bullishness around the likely CPI and PPI numbers being more in line with moderation,\" said Greg Bassuk, chief executive officer of AXS Investments in New York.\\n\\nStory continues below Advertisement\\n\\nRemove Ad\\n\\n\"As long as the inflation numbers for August come in within the band of expectations, we\\'re going to see the Fed move away from additional rate hikes.\"\\n\\nWall Street logged weekly losses on Friday after a recent uptick in oil prices and stronger-than-expected economic data fueled concerns of sticky inflation and interest rates staying higher for longer.\\n\\nTraders see a 93% chance that the central bank will hold its interest rates at current levels at its September meeting, while chances of a pause in November stand at 57%, according to the CME FedWatch Tool. Fed officials have entered a blackout period, during which they usually do not make public comments, until the policy decision outcome on Sept. 20.\\n\\nThe S&P 500 climbed 0.67% to end at 4,487.46 points.\\n\\nThe Nasdaq gained 1.14% at 13,917.89 points, while Dow Jones Industrial Average rose 0.25% to 34,663.72 points.\\n\\nVolume on U.S. exchanges was relatively light, with 9.3 billion shares traded, compared to an average of 10.0 billion shares over the previous 20 sessions.\\n\\nOf the 11 S&P 500 sector indexes, nine rose, led by consumer discretionaryÂ (.SPLRCD), up 2.77%, followed by a 1.17% gain in communication servicesÂ (.SPLRCL).\\n\\nQualcommÂ (QCOM.O)Â advanced 3.9% after the chipmaker signed a new deal with AppleÂ (AAPL.O)Â to supply 5G chips to the iPhone maker until at least 2026.\\n\\nHostess BrandsÂ (TWNK.O)Â surged 19.1% after J. M. SmuckerÂ (SJM.N)Â saidÂ it would buy the Twinkies-maker in a $5.6 billion deal.\\n\\nAdvancing issues outnumbered falling ones within the S&P 500Â (.AD.SPX)Â by a 1.5-to-one ratio.\\n\\nThe S&P 500 posted 14 new highs and 11 new lows; the Nasdaq recorded 36 new highs and 199 new lows.\\n\\nReuters\\n\\nTags: #International Markets\\n\\nfirst published: Sep 12, 2023 06:24 am\\n\\nTop Trends\\n\\nAngel TaxWiproBudget newsNew Income tax slabIPO News\\n\\nAdvertisement\\n\\nRemove Ad\\n\\nTrending news\\n\\nEx-Google recruiter\\'s advice to job seekers: Donâ\\x80\\x99t ask about work-life balance in an interview\\n\\nBengaluru: Shocking video shows woman, baby cry as drunk bouncer attacks their car in road rage\\n\\nOne-year-old child bites snake to death in Bihar after mistaking it for toy, escapes unharmed\\n\\n\\'Has not raised rent in 5 years\\': Bengaluru tenant showers praise on elderly landlord, post goes viral\\n\\nIITian couple lists 10 major differences between life in India and US: \\'Honest compilation\\'\\n\\nAdvisory Alert:\\n\\nForum Facebook Twitter Instagram Linkedin RSS\\n\\nPortfolio\\n\\nMarkets\\n\\nWatchlist\\n\\nLive TV Show\\n\\nCurrencies\\n\\nFREE Credit Score₹100 Cash Reward\\n\\nCommodities\\n\\nFixed Deposits\\n\\nFixed Income\\n\\nPersonal Finance\\n\\nMutual Fund\\n\\nPre-Market\\n\\nIPO\\n\\nGlobal Market\\n\\nBudget 2024\\n\\nElections 2024\\n\\nGold Rate\\n\\nBSE Sensex\\n\\nForum\\n\\nMC 30\\n\\nNews\\n\\nBusiness\\n\\nMarkets\\n\\nStocks\\n\\nIncome Tax Calculator\\n\\nIndia News\\n\\nITR Filing 2023-24\\n\\nEconomy\\n\\nMutual Funds\\n\\nPersonal Finance\\n\\nIPO News\\n\\nStartups\\n\\nStocks: A | B | C | D | E | F | G | H | I | J | K | L | M | N | O | P | Q | R | S | T | U | V | W | X | Y | Z | Others\\n\\nMutual Funds: A | B | C | D | E | F | G | H | I | J | K | L | M | N | O | P | Q | R | S | T | U | V | W | X | Y | Z\\n\\nVisit the App Store to see all our apps:\\n\\nDownload from Google PlayDownload from APP StoreDownload from Windows Phone\\n\\nTools\\n\\nRetirement Planning\\n\\nEMI Calculator\\n\\nSIP Calculator\\n\\nSIP Planner\\n\\nUseful Links\\n\\nCrypto News\\n\\nBank Holidays in India\\n\\nGold Rate Today\\n\\nSilver Rate Today\\n\\nTrending News\\n\\nStartups\\n\\nNational News\\n\\nMC Videos\\n\\nMC You Tube\\n\\nHouse Purchase Index\\n\\nBest Portfolio Manager\\n\\nSmall Savings Schemes\\n\\nBonds\\n\\nTopperLearning\\n\\nClear Study Doubts\\n\\nEducation Franchisee Opportunity\\n\\nSpecials\\n\\nMaster Your Money\\n\\nGame Changers\\n\\nInvestment Watch\\n\\nPowerYourTrade\\n\\nFocus\\n\\nSME Step Up\\n\\nNetwork 18 Sites\\n\\nNews18\\n\\nFirstpost\\n\\nCNBC TV18\\n\\nNews18 Hindi\\n\\nCricketnext\\n\\nOverdrive\\n\\nTopper Learning\\n\\nAbout us | Contact Us | Advisory Alert | Advertise with Us | Support | Disclaimer | Privacy Policy | Cookie Policy | Terms & Conditions | Careers | Financial Terms (Glossary) | FAQs | Sitemap | RSS Feed | Investors\\n\\nCopyright Â© e-Eighteen.com Ltd. All rights reserved. Reproduction of news articles, photos, videos or any other content in whole or in part in any form or medium without express writtern permission of moneycontrol.com is prohibited.\\n\\nYou got 30 Dayâ\\x80\\x99s Trial of\\n\\nGrab it Now\\n\\nAd-Free Experience\\n\\nTop Articles from Financial Times\\n\\nActionable Insights\\n\\nMC Research\\n\\nEconomic Calendar\\n\\n& Many More\\n\\nYou are already a Moneycontrol Pro user.\\n\\nFaizan Javed')"
      ]
     },
     "execution_count": 5,
     "metadata": {},
     "output_type": "execute_result"
    }
   ],
   "source": [
    "data[0]"
   ]
  },
  {
   "cell_type": "markdown",
   "metadata": {},
   "source": [
    "## Split data to create chunks"
   ]
  },
  {
   "cell_type": "code",
   "execution_count": 6,
   "metadata": {},
   "outputs": [],
   "source": [
    "recursive_text_splitter = RecursiveCharacterTextSplitter(\n",
    "    chunk_size = 1000,\n",
    "    chunk_overlap = 200\n",
    ")\n",
    "\n",
    "# As data is of type documents we can directly use split_documents over split_text in order to get the chunks.\n",
    "docs = recursive_text_splitter.split_documents(data)"
   ]
  },
  {
   "cell_type": "code",
   "execution_count": 7,
   "metadata": {},
   "outputs": [
    {
     "data": {
      "text/plain": [
       "17"
      ]
     },
     "execution_count": 7,
     "metadata": {},
     "output_type": "execute_result"
    }
   ],
   "source": [
    "len(docs)"
   ]
  },
  {
   "cell_type": "code",
   "execution_count": 8,
   "metadata": {},
   "outputs": [
    {
     "data": {
      "text/plain": [
       "Document(metadata={'source': 'https://www.moneycontrol.com/news/business/markets/wall-street-rises-as-tesla-soars-on-ai-optimism-11351111.html'}, page_content='English\\n\\nHindi\\n\\nGujarati\\n\\nSpecials\\n\\nHello, Login\\n\\nHello, Login\\n\\nLog-inor Sign-Up\\n\\nMy Account\\n\\nMy Profile\\n\\nMy Portfolio\\n\\nMy Watchlist\\n\\nFREE Credit Score₹100 Cash Reward\\n\\nFixed Deposits\\n\\nMy Alerts\\n\\nMy Messages\\n\\nPrice Alerts\\n\\nMy Profile\\n\\nMy PRO\\n\\nMy Portfolio\\n\\nMy Watchlist\\n\\nFREE Credit Score₹100 Cash Reward\\n\\nFixed Deposits\\n\\nMy Alerts\\n\\nMy Messages\\n\\nPrice Alerts\\n\\nLogout\\n\\nChat with Us\\n\\nDownload App\\n\\nFollow us on:\\n\\nGo Ad-Free\\n\\nMy Alerts\\n\\n>->MC_ENG_DESKTOP/MC_ENG_NEWS/MC_ENG_MARKETS_AS/MC_ENG_ROS_NWS_MKTS_AS_ATF_728\\n\\nGo PRO @₹99 PRO\\n\\nAdvertisement\\n\\nRemove Ad\\n\\nBusiness\\n\\nMarkets\\n\\nStocks\\n\\nEconomy\\n\\nCompanies\\n\\nTrends\\n\\nIPO\\n\\nOpinion\\n\\nEV Special\\n\\nHomeNewsBusinessMarketsWall Street rises as Tesla soars on AI optimism\\n\\nTrending Topics\\n\\nSensex TodayIndusInd Bank Mutual FundSaraswati Saree Share PriceOla Electric share priceHi Tech Pipes QIP\\n\\nWall Street rises as Tesla soars on AI optimism')"
      ]
     },
     "execution_count": 8,
     "metadata": {},
     "output_type": "execute_result"
    }
   ],
   "source": [
    "docs[0]"
   ]
  },
  {
   "cell_type": "markdown",
   "metadata": {},
   "source": [
    "## Create embeddings for these chunks and save them to FAISS index"
   ]
  },
  {
   "cell_type": "code",
   "execution_count": 9,
   "metadata": {},
   "outputs": [],
   "source": [
    "# Create the embeddings of the chunks using openAIEmbeddings\n",
    "openai_embeddings = OpenAIEmbeddings()"
   ]
  },
  {
   "cell_type": "code",
   "execution_count": 10,
   "metadata": {},
   "outputs": [],
   "source": [
    "# Pass the documents and embeddings inorder to create FAISS vector index\n",
    "vector_index_openai = FAISS.from_documents(docs, openai_embeddings)"
   ]
  },
  {
   "cell_type": "code",
   "execution_count": 11,
   "metadata": {},
   "outputs": [
    {
     "name": "stdout",
     "output_type": "stream",
     "text": [
      "['_FAISS__add', '_FAISS__from', '__abstractmethods__', '__class__', '__delattr__', '__dict__', '__dir__', '__doc__', '__eq__', '__format__', '__ge__', '__getattribute__', '__getstate__', '__gt__', '__hash__', '__init__', '__init_subclass__', '__le__', '__lt__', '__module__', '__ne__', '__new__', '__reduce__', '__reduce_ex__', '__repr__', '__setattr__', '__sizeof__', '__slots__', '__str__', '__subclasshook__', '__weakref__', '_abc_impl', '_aembed_documents', '_aembed_query', '_asimilarity_search_with_relevance_scores', '_cosine_relevance_score_fn', '_create_filter_func', '_embed_documents', '_embed_query', '_euclidean_relevance_score_fn', '_get_retriever_tags', '_max_inner_product_relevance_score_fn', '_normalize_L2', '_select_relevance_score_fn', '_similarity_search_with_relevance_scores', 'aadd_documents', 'aadd_texts', 'add_documents', 'add_embeddings', 'add_texts', 'adelete', 'afrom_documents', 'afrom_embeddings', 'afrom_texts', 'aget_by_ids', 'amax_marginal_relevance_search', 'amax_marginal_relevance_search_by_vector', 'amax_marginal_relevance_search_with_score_by_vector', 'as_retriever', 'asearch', 'asimilarity_search', 'asimilarity_search_by_vector', 'asimilarity_search_with_relevance_scores', 'asimilarity_search_with_score', 'asimilarity_search_with_score_by_vector', 'delete', 'deserialize_from_bytes', 'distance_strategy', 'docstore', 'embedding_function', 'embeddings', 'from_documents', 'from_embeddings', 'from_texts', 'get_by_ids', 'index', 'index_to_docstore_id', 'load_local', 'max_marginal_relevance_search', 'max_marginal_relevance_search_by_vector', 'max_marginal_relevance_search_with_score_by_vector', 'merge_from', 'override_relevance_score_fn', 'save_local', 'search', 'serialize_to_bytes', 'similarity_search', 'similarity_search_by_vector', 'similarity_search_with_relevance_scores', 'similarity_search_with_score', 'similarity_search_with_score_by_vector']\n"
     ]
    }
   ],
   "source": [
    "# Example: Check if _lock or other non-picklable objects exist\n",
    "print(dir(vector_index_openai))"
   ]
  },
  {
   "cell_type": "code",
   "execution_count": 13,
   "metadata": {},
   "outputs": [],
   "source": [
    "# Usage\n",
    "vector_index_serialized = vector_index_openai.serialize_to_bytes()\n",
    "\n",
    "file_path = \"vector_index.pkl\"\n",
    "with open(file_path, \"wb+\") as f:\n",
    "    pickle.dump(vector_index_serialized, f)"
   ]
  },
  {
   "cell_type": "code",
   "execution_count": 15,
   "metadata": {},
   "outputs": [],
   "source": [
    "if os.path.exists(file_path):\n",
    "    with open(file_path, \"rb+\") as f:\n",
    "        vector_index_serialized = pickle.load(f)\n",
    "\n",
    "vector_index_openai = FAISS.deserialize_from_bytes(serialized= vector_index_serialized, \n",
    "                                                   embeddings= openai_embeddings, \n",
    "                                                   allow_dangerous_deserialization = True \n",
    "                                                   )"
   ]
  },
  {
   "cell_type": "markdown",
   "metadata": {},
   "source": [
    "## Retrieve similar embeddings for a given question and call LLM to retrieve final answer"
   ]
  },
  {
   "cell_type": "code",
   "execution_count": 21,
   "metadata": {},
   "outputs": [
    {
     "data": {
      "text/plain": [
       "RetrievalQAWithSourcesChain(combine_documents_chain=StuffDocumentsChain(llm_chain=LLMChain(prompt=PromptTemplate(input_variables=['question', 'summaries'], template='Given the following extracted parts of a long document and a question, create a final answer with references (\"SOURCES\"). \\nIf you don\\'t know the answer, just say that you don\\'t know. Don\\'t try to make up an answer.\\nALWAYS return a \"SOURCES\" part in your answer.\\n\\nQUESTION: Which state/country\\'s law governs the interpretation of the contract?\\n=========\\nContent: This Agreement is governed by English law and the parties submit to the exclusive jurisdiction of the English courts in  relation to any dispute (contractual or non-contractual) concerning this Agreement save that either party may apply to any court for an  injunction or other relief to protect its Intellectual Property Rights.\\nSource: 28-pl\\nContent: No Waiver. Failure or delay in exercising any right or remedy under this Agreement shall not constitute a waiver of such (or any other)  right or remedy.\\n\\n11.7 Severability. The invalidity, illegality or unenforceability of any term (or part of a term) of this Agreement shall not affect the continuation  in force of the remainder of the term (if any) and this Agreement.\\n\\n11.8 No Agency. Except as expressly stated otherwise, nothing in this Agreement shall create an agency, partnership or joint venture of any  kind between the parties.\\n\\n11.9 No Third-Party Beneficiaries.\\nSource: 30-pl\\nContent: (b) if Google believes, in good faith, that the Distributor has violated or caused Google to violate any Anti-Bribery Laws (as  defined in Clause 8.5) or that such a violation is reasonably likely to occur,\\nSource: 4-pl\\n=========\\nFINAL ANSWER: This Agreement is governed by English law.\\nSOURCES: 28-pl\\n\\nQUESTION: What did the president say about Michael Jackson?\\n=========\\nContent: Madam Speaker, Madam Vice President, our First Lady and Second Gentleman. Members of Congress and the Cabinet. Justices of the Supreme Court. My fellow Americans.  \\n\\nLast year COVID-19 kept us apart. This year we are finally together again. \\n\\nTonight, we meet as Democrats Republicans and Independents. But most importantly as Americans. \\n\\nWith a duty to one another to the American people to the Constitution. \\n\\nAnd with an unwavering resolve that freedom will always triumph over tyranny. \\n\\nSix days ago, Russia’s Vladimir Putin sought to shake the foundations of the free world thinking he could make it bend to his menacing ways. But he badly miscalculated. \\n\\nHe thought he could roll into Ukraine and the world would roll over. Instead he met a wall of strength he never imagined. \\n\\nHe met the Ukrainian people. \\n\\nFrom President Zelenskyy to every Ukrainian, their fearlessness, their courage, their determination, inspires the world. \\n\\nGroups of citizens blocking tanks with their bodies. Everyone from students to retirees teachers turned soldiers defending their homeland.\\nSource: 0-pl\\nContent: And we won’t stop. \\n\\nWe have lost so much to COVID-19. Time with one another. And worst of all, so much loss of life. \\n\\nLet’s use this moment to reset. Let’s stop looking at COVID-19 as a partisan dividing line and see it for what it is: A God-awful disease.  \\n\\nLet’s stop seeing each other as enemies, and start seeing each other for who we really are: Fellow Americans.  \\n\\nWe can’t change how divided we’ve been. But we can change how we move forward—on COVID-19 and other issues we must face together. \\n\\nI recently visited the New York City Police Department days after the funerals of Officer Wilbert Mora and his partner, Officer Jason Rivera. \\n\\nThey were responding to a 9-1-1 call when a man shot and killed them with a stolen gun. \\n\\nOfficer Mora was 27 years old. \\n\\nOfficer Rivera was 22. \\n\\nBoth Dominican Americans who’d grown up on the same streets they later chose to patrol as police officers. \\n\\nI spoke with their families and told them that we are forever in debt for their sacrifice, and we will carry on their mission to restore the trust and safety every community deserves.\\nSource: 24-pl\\nContent: And a proud Ukrainian people, who have known 30 years  of independence, have repeatedly shown that they will not tolerate anyone who tries to take their country backwards.  \\n\\nTo all Americans, I will be honest with you, as I’ve always promised. A Russian dictator, invading a foreign country, has costs around the world. \\n\\nAnd I’m taking robust action to make sure the pain of our sanctions  is targeted at Russia’s economy. And I will use every tool at our disposal to protect American businesses and consumers. \\n\\nTonight, I can announce that the United States has worked with 30 other countries to release 60 Million barrels of oil from reserves around the world.  \\n\\nAmerica will lead that effort, releasing 30 Million barrels from our own Strategic Petroleum Reserve. And we stand ready to do more if necessary, unified with our allies.  \\n\\nThese steps will help blunt gas prices here at home. And I know the news about what’s happening can seem alarming. \\n\\nBut I want you to know that we are going to be okay.\\nSource: 5-pl\\nContent: More support for patients and families. \\n\\nTo get there, I call on Congress to fund ARPA-H, the Advanced Research Projects Agency for Health. \\n\\nIt’s based on DARPA—the Defense Department project that led to the Internet, GPS, and so much more.  \\n\\nARPA-H will have a singular purpose—to drive breakthroughs in cancer, Alzheimer’s, diabetes, and more. \\n\\nA unity agenda for the nation. \\n\\nWe can do this. \\n\\nMy fellow Americans—tonight , we have gathered in a sacred space—the citadel of our democracy. \\n\\nIn this Capitol, generation after generation, Americans have debated great questions amid great strife, and have done great things. \\n\\nWe have fought for freedom, expanded liberty, defeated totalitarianism and terror. \\n\\nAnd built the strongest, freest, and most prosperous nation the world has ever known. \\n\\nNow is the hour. \\n\\nOur moment of responsibility. \\n\\nOur test of resolve and conscience, of history itself. \\n\\nIt is in this moment that our character is formed. Our purpose is found. Our future is forged. \\n\\nWell I know this nation.\\nSource: 34-pl\\n=========\\nFINAL ANSWER: The president did not mention Michael Jackson.\\nSOURCES:\\n\\nQUESTION: {question}\\n=========\\n{summaries}\\n=========\\nFINAL ANSWER:'), llm=OpenAI(client=<openai.resources.completions.Completions object at 0x12cf0b140>, async_client=<openai.resources.completions.AsyncCompletions object at 0x107dee900>, temperature=0.9, max_tokens=500, openai_api_key=SecretStr('**********'), openai_proxy='')), document_prompt=PromptTemplate(input_variables=['page_content', 'source'], template='Content: {page_content}\\nSource: {source}'), document_variable_name='summaries'), retriever=VectorStoreRetriever(tags=['FAISS', 'OpenAIEmbeddings'], vectorstore=<langchain_community.vectorstores.faiss.FAISS object at 0x16d9234a0>))"
      ]
     },
     "execution_count": 21,
     "metadata": {},
     "output_type": "execute_result"
    }
   ],
   "source": [
    "chain = RetrievalQAWithSourcesChain.from_chain_type(llm = llm, retriever = vector_index_openai.as_retriever())\n",
    "chain"
   ]
  },
  {
   "cell_type": "code",
   "execution_count": 23,
   "metadata": {},
   "outputs": [
    {
     "name": "stdout",
     "output_type": "stream",
     "text": [
      "\u001b[32;1m\u001b[1;3m[chain/start]\u001b[0m \u001b[1m[chain:RetrievalQAWithSourcesChain] Entering Chain run with input:\n",
      "\u001b[0m{\n",
      "  \"question\": \"what is the price of Tiago iCNG?\"\n",
      "}\n",
      "\u001b[32;1m\u001b[1;3m[chain/start]\u001b[0m \u001b[1m[chain:RetrievalQAWithSourcesChain > chain:StuffDocumentsChain] Entering Chain run with input:\n",
      "\u001b[0m[inputs]\n",
      "\u001b[32;1m\u001b[1;3m[chain/start]\u001b[0m \u001b[1m[chain:RetrievalQAWithSourcesChain > chain:StuffDocumentsChain > chain:LLMChain] Entering Chain run with input:\n",
      "\u001b[0m{\n",
      "  \"question\": \"what is the price of Tiago iCNG?\",\n",
      "  \"summaries\": \"Content: The company also said it has also introduced the twin-cylinder technology on its Tiago and Tigor models.\\n\\nThe Tiago iCNG is priced between Rs 6.55 lakh and Rs 8.1 lakh, while the Tigor iCNG comes at a price range of Rs 7.8 lakh to Rs 8.95 lakh.\\n\\nTata Motors Passenger Vehicles Ltd Head-Marketing, Vinay Pant said these introductions put together will make the company's CNG line up \\\"appealing, holistic, and stronger than ever\\\".\\n\\nPTI\\n\\nTags: #Business #Companies\\n\\nfirst published: Aug 4, 2023 02:17 pm\\n\\nTop Trends\\n\\nAngel TaxWiproBudget newsNew Income tax slabIPO News\\n\\nAdvertisement\\n\\nRemove Ad\\n\\nAdvertisement\\n\\nRemove Ad\\n\\nAdvertisement\\n\\nRemove Ad\\n\\nAdvertisement\\n\\nRemove Ad\\n\\nAdvertisement\\n\\nRemove Ad\\n\\nAdvertisement\\n\\nRemove Ad\\n\\nAdvisory Alert:\\n\\nForum Facebook Twitter Instagram Linkedin RSS\\n\\nPortfolio\\n\\nMarkets\\n\\nWatchlist\\n\\nLive TV Show\\n\\nCurrencies\\n\\nFREE Credit Score₹100 Cash Reward\\n\\nCommodities\\n\\nFixed Deposits\\n\\nFixed Income\\n\\nPersonal Finance\\n\\nMutual Fund\\n\\nPre-Market\\n\\nIPO\\n\\nGlobal Market\\n\\nBudget 2024\\nSource: https://www.moneycontrol.com/news/business/tata-motors-launches-punch-icng-price-starts-at-rs-7-1-lakh-11098751.html\\n\\nContent: Trending Topics\\n\\nNandita SinhaSanathan Textiles IPOInnovision IPO Orient Technologies IPOSensex Today\\n\\nTata Motors launches Punch iCNG, price starts at Rs 7.1 lakh\\n\\nThe Punch iCNG is equipped with the company's proprietary twin-cylinder technology with enhanced safety features like a micro-switch to keep the car switched off at the time of refuelling and thermal incident protection that cuts off CNG supply to the engine and releases gas into the atmosphere, Tata Motors said in a statement.\\n\\nPTI\\n\\nAugust 04, 2023 / 14:17 IST\\n\\nTata Motors launches Punch iCNG, price starts at Rs 7.1 lakh\\n\\nWatchlist\\n\\nPortfolio\\n\\nMessage\\n\\nSet Alert\\n\\nlive\\n\\nbselive\\n\\nnselive\\n\\nVolume\\n\\nTodays L/H\\n\\nMore\\n\\nTata Motors on Friday launched the CNG variant of its micro SUV Punch priced between Rs 7.1 lakh and Rs 9.68 lakh (ex-showroom, Delhi).\\nSource: https://www.moneycontrol.com/news/business/tata-motors-launches-punch-icng-price-starts-at-rs-7-1-lakh-11098751.html\\n\\nContent: Set Alert\\n\\nlive\\n\\nbselive\\n\\nnselive\\n\\nVolume\\n\\nTodays L/H\\n\\nMore\\n\\nTata Motors on Friday launched the CNG variant of its micro SUV Punch priced between Rs 7.1 lakh and Rs 9.68 lakh (ex-showroom, Delhi).\\n\\nThe Punch iCNG is equipped with the company's proprietary twin-cylinder technology with enhanced safety features like a micro-switch to keep the car switched off at the time of refuelling and thermal incident protection that cuts off CNG supply to the engine and releases gas into the atmosphere, Tata Motors said in a statement.\\n\\nStory continues below Advertisement\\n\\nRemove Ad\\n\\nIt is also equipped with other features such as voice assisted electric sunroof, automatic projector headlamps, LED DRLs, 16-inch diamond cut alloy wheels, 7-inch infotainment system by Harman that supports Android Auto and Apple Carplay connectivity, rain sensing wipers and height adjustable driver seat.\\n\\nThe company also said it has also introduced the twin-cylinder technology on its Tiago and Tigor models.\\nSource: https://www.moneycontrol.com/news/business/tata-motors-launches-punch-icng-price-starts-at-rs-7-1-lakh-11098751.html\\n\\nContent: English\\n\\nHindi\\n\\nGujarati\\n\\nSpecials\\n\\nHello, Login\\n\\nHello, Login\\n\\nLog-inor Sign-Up\\n\\nMy Account\\n\\nMy Profile\\n\\nMy Portfolio\\n\\nMy Watchlist\\n\\nFREE Credit Score₹100 Cash Reward\\n\\nFixed Deposits\\n\\nMy Alerts\\n\\nMy Messages\\n\\nPrice Alerts\\n\\nMy Profile\\n\\nMy PRO\\n\\nMy Portfolio\\n\\nMy Watchlist\\n\\nFREE Credit Score₹100 Cash Reward\\n\\nFixed Deposits\\n\\nMy Alerts\\n\\nMy Messages\\n\\nPrice Alerts\\n\\nLogout\\n\\nChat with Us\\n\\nDownload App\\n\\nFollow us on:\\n\\nGo Ad-Free\\n\\nMy Alerts\\n\\n>->MC_ENG_DESKTOP/MC_ENG_NEWS/MC_ENG_BUSINESS_AS/MC_ENG_ROS_NWS_BUS_AS_ATF_728\\n\\nGo PRO @₹99 PRO\\n\\nAdvertisement\\n\\nRemove Ad\\n\\nBusiness\\n\\nMarkets\\n\\nStocks\\n\\nEconomy\\n\\nCompanies\\n\\nTrends\\n\\nIPO\\n\\nOpinion\\n\\nEV Special\\n\\nHomeNewsBusinessTata Motors launches Punch iCNG, price starts at Rs 7.1 lakh\\n\\nTrending Topics\\n\\nNandita SinhaSanathan Textiles IPOInnovision IPO Orient Technologies IPOSensex Today\\n\\nTata Motors launches Punch iCNG, price starts at Rs 7.1 lakh\\nSource: https://www.moneycontrol.com/news/business/tata-motors-launches-punch-icng-price-starts-at-rs-7-1-lakh-11098751.html\"\n",
      "}\n",
      "\u001b[32;1m\u001b[1;3m[llm/start]\u001b[0m \u001b[1m[chain:RetrievalQAWithSourcesChain > chain:StuffDocumentsChain > chain:LLMChain > llm:OpenAI] Entering LLM run with input:\n",
      "\u001b[0m{\n",
      "  \"prompts\": [\n",
      "    \"Given the following extracted parts of a long document and a question, create a final answer with references (\\\"SOURCES\\\"). \\nIf you don't know the answer, just say that you don't know. Don't try to make up an answer.\\nALWAYS return a \\\"SOURCES\\\" part in your answer.\\n\\nQUESTION: Which state/country's law governs the interpretation of the contract?\\n=========\\nContent: This Agreement is governed by English law and the parties submit to the exclusive jurisdiction of the English courts in  relation to any dispute (contractual or non-contractual) concerning this Agreement save that either party may apply to any court for an  injunction or other relief to protect its Intellectual Property Rights.\\nSource: 28-pl\\nContent: No Waiver. Failure or delay in exercising any right or remedy under this Agreement shall not constitute a waiver of such (or any other)  right or remedy.\\n\\n11.7 Severability. The invalidity, illegality or unenforceability of any term (or part of a term) of this Agreement shall not affect the continuation  in force of the remainder of the term (if any) and this Agreement.\\n\\n11.8 No Agency. Except as expressly stated otherwise, nothing in this Agreement shall create an agency, partnership or joint venture of any  kind between the parties.\\n\\n11.9 No Third-Party Beneficiaries.\\nSource: 30-pl\\nContent: (b) if Google believes, in good faith, that the Distributor has violated or caused Google to violate any Anti-Bribery Laws (as  defined in Clause 8.5) or that such a violation is reasonably likely to occur,\\nSource: 4-pl\\n=========\\nFINAL ANSWER: This Agreement is governed by English law.\\nSOURCES: 28-pl\\n\\nQUESTION: What did the president say about Michael Jackson?\\n=========\\nContent: Madam Speaker, Madam Vice President, our First Lady and Second Gentleman. Members of Congress and the Cabinet. Justices of the Supreme Court. My fellow Americans.  \\n\\nLast year COVID-19 kept us apart. This year we are finally together again. \\n\\nTonight, we meet as Democrats Republicans and Independents. But most importantly as Americans. \\n\\nWith a duty to one another to the American people to the Constitution. \\n\\nAnd with an unwavering resolve that freedom will always triumph over tyranny. \\n\\nSix days ago, Russia’s Vladimir Putin sought to shake the foundations of the free world thinking he could make it bend to his menacing ways. But he badly miscalculated. \\n\\nHe thought he could roll into Ukraine and the world would roll over. Instead he met a wall of strength he never imagined. \\n\\nHe met the Ukrainian people. \\n\\nFrom President Zelenskyy to every Ukrainian, their fearlessness, their courage, their determination, inspires the world. \\n\\nGroups of citizens blocking tanks with their bodies. Everyone from students to retirees teachers turned soldiers defending their homeland.\\nSource: 0-pl\\nContent: And we won’t stop. \\n\\nWe have lost so much to COVID-19. Time with one another. And worst of all, so much loss of life. \\n\\nLet’s use this moment to reset. Let’s stop looking at COVID-19 as a partisan dividing line and see it for what it is: A God-awful disease.  \\n\\nLet’s stop seeing each other as enemies, and start seeing each other for who we really are: Fellow Americans.  \\n\\nWe can’t change how divided we’ve been. But we can change how we move forward—on COVID-19 and other issues we must face together. \\n\\nI recently visited the New York City Police Department days after the funerals of Officer Wilbert Mora and his partner, Officer Jason Rivera. \\n\\nThey were responding to a 9-1-1 call when a man shot and killed them with a stolen gun. \\n\\nOfficer Mora was 27 years old. \\n\\nOfficer Rivera was 22. \\n\\nBoth Dominican Americans who’d grown up on the same streets they later chose to patrol as police officers. \\n\\nI spoke with their families and told them that we are forever in debt for their sacrifice, and we will carry on their mission to restore the trust and safety every community deserves.\\nSource: 24-pl\\nContent: And a proud Ukrainian people, who have known 30 years  of independence, have repeatedly shown that they will not tolerate anyone who tries to take their country backwards.  \\n\\nTo all Americans, I will be honest with you, as I’ve always promised. A Russian dictator, invading a foreign country, has costs around the world. \\n\\nAnd I’m taking robust action to make sure the pain of our sanctions  is targeted at Russia’s economy. And I will use every tool at our disposal to protect American businesses and consumers. \\n\\nTonight, I can announce that the United States has worked with 30 other countries to release 60 Million barrels of oil from reserves around the world.  \\n\\nAmerica will lead that effort, releasing 30 Million barrels from our own Strategic Petroleum Reserve. And we stand ready to do more if necessary, unified with our allies.  \\n\\nThese steps will help blunt gas prices here at home. And I know the news about what’s happening can seem alarming. \\n\\nBut I want you to know that we are going to be okay.\\nSource: 5-pl\\nContent: More support for patients and families. \\n\\nTo get there, I call on Congress to fund ARPA-H, the Advanced Research Projects Agency for Health. \\n\\nIt’s based on DARPA—the Defense Department project that led to the Internet, GPS, and so much more.  \\n\\nARPA-H will have a singular purpose—to drive breakthroughs in cancer, Alzheimer’s, diabetes, and more. \\n\\nA unity agenda for the nation. \\n\\nWe can do this. \\n\\nMy fellow Americans—tonight , we have gathered in a sacred space—the citadel of our democracy. \\n\\nIn this Capitol, generation after generation, Americans have debated great questions amid great strife, and have done great things. \\n\\nWe have fought for freedom, expanded liberty, defeated totalitarianism and terror. \\n\\nAnd built the strongest, freest, and most prosperous nation the world has ever known. \\n\\nNow is the hour. \\n\\nOur moment of responsibility. \\n\\nOur test of resolve and conscience, of history itself. \\n\\nIt is in this moment that our character is formed. Our purpose is found. Our future is forged. \\n\\nWell I know this nation.\\nSource: 34-pl\\n=========\\nFINAL ANSWER: The president did not mention Michael Jackson.\\nSOURCES:\\n\\nQUESTION: what is the price of Tiago iCNG?\\n=========\\nContent: The company also said it has also introduced the twin-cylinder technology on its Tiago and Tigor models.\\n\\nThe Tiago iCNG is priced between Rs 6.55 lakh and Rs 8.1 lakh, while the Tigor iCNG comes at a price range of Rs 7.8 lakh to Rs 8.95 lakh.\\n\\nTata Motors Passenger Vehicles Ltd Head-Marketing, Vinay Pant said these introductions put together will make the company's CNG line up \\\"appealing, holistic, and stronger than ever\\\".\\n\\nPTI\\n\\nTags: #Business #Companies\\n\\nfirst published: Aug 4, 2023 02:17 pm\\n\\nTop Trends\\n\\nAngel TaxWiproBudget newsNew Income tax slabIPO News\\n\\nAdvertisement\\n\\nRemove Ad\\n\\nAdvertisement\\n\\nRemove Ad\\n\\nAdvertisement\\n\\nRemove Ad\\n\\nAdvertisement\\n\\nRemove Ad\\n\\nAdvertisement\\n\\nRemove Ad\\n\\nAdvertisement\\n\\nRemove Ad\\n\\nAdvisory Alert:\\n\\nForum Facebook Twitter Instagram Linkedin RSS\\n\\nPortfolio\\n\\nMarkets\\n\\nWatchlist\\n\\nLive TV Show\\n\\nCurrencies\\n\\nFREE Credit Score₹100 Cash Reward\\n\\nCommodities\\n\\nFixed Deposits\\n\\nFixed Income\\n\\nPersonal Finance\\n\\nMutual Fund\\n\\nPre-Market\\n\\nIPO\\n\\nGlobal Market\\n\\nBudget 2024\\nSource: https://www.moneycontrol.com/news/business/tata-motors-launches-punch-icng-price-starts-at-rs-7-1-lakh-11098751.html\\n\\nContent: Trending Topics\\n\\nNandita SinhaSanathan Textiles IPOInnovision IPO Orient Technologies IPOSensex Today\\n\\nTata Motors launches Punch iCNG, price starts at Rs 7.1 lakh\\n\\nThe Punch iCNG is equipped with the company's proprietary twin-cylinder technology with enhanced safety features like a micro-switch to keep the car switched off at the time of refuelling and thermal incident protection that cuts off CNG supply to the engine and releases gas into the atmosphere, Tata Motors said in a statement.\\n\\nPTI\\n\\nAugust 04, 2023 / 14:17 IST\\n\\nTata Motors launches Punch iCNG, price starts at Rs 7.1 lakh\\n\\nWatchlist\\n\\nPortfolio\\n\\nMessage\\n\\nSet Alert\\n\\nlive\\n\\nbselive\\n\\nnselive\\n\\nVolume\\n\\nTodays L/H\\n\\nMore\\n\\nTata Motors on Friday launched the CNG variant of its micro SUV Punch priced between Rs 7.1 lakh and Rs 9.68 lakh (ex-showroom, Delhi).\\nSource: https://www.moneycontrol.com/news/business/tata-motors-launches-punch-icng-price-starts-at-rs-7-1-lakh-11098751.html\\n\\nContent: Set Alert\\n\\nlive\\n\\nbselive\\n\\nnselive\\n\\nVolume\\n\\nTodays L/H\\n\\nMore\\n\\nTata Motors on Friday launched the CNG variant of its micro SUV Punch priced between Rs 7.1 lakh and Rs 9.68 lakh (ex-showroom, Delhi).\\n\\nThe Punch iCNG is equipped with the company's proprietary twin-cylinder technology with enhanced safety features like a micro-switch to keep the car switched off at the time of refuelling and thermal incident protection that cuts off CNG supply to the engine and releases gas into the atmosphere, Tata Motors said in a statement.\\n\\nStory continues below Advertisement\\n\\nRemove Ad\\n\\nIt is also equipped with other features such as voice assisted electric sunroof, automatic projector headlamps, LED DRLs, 16-inch diamond cut alloy wheels, 7-inch infotainment system by Harman that supports Android Auto and Apple Carplay connectivity, rain sensing wipers and height adjustable driver seat.\\n\\nThe company also said it has also introduced the twin-cylinder technology on its Tiago and Tigor models.\\nSource: https://www.moneycontrol.com/news/business/tata-motors-launches-punch-icng-price-starts-at-rs-7-1-lakh-11098751.html\\n\\nContent: English\\n\\nHindi\\n\\nGujarati\\n\\nSpecials\\n\\nHello, Login\\n\\nHello, Login\\n\\nLog-inor Sign-Up\\n\\nMy Account\\n\\nMy Profile\\n\\nMy Portfolio\\n\\nMy Watchlist\\n\\nFREE Credit Score₹100 Cash Reward\\n\\nFixed Deposits\\n\\nMy Alerts\\n\\nMy Messages\\n\\nPrice Alerts\\n\\nMy Profile\\n\\nMy PRO\\n\\nMy Portfolio\\n\\nMy Watchlist\\n\\nFREE Credit Score₹100 Cash Reward\\n\\nFixed Deposits\\n\\nMy Alerts\\n\\nMy Messages\\n\\nPrice Alerts\\n\\nLogout\\n\\nChat with Us\\n\\nDownload App\\n\\nFollow us on:\\n\\nGo Ad-Free\\n\\nMy Alerts\\n\\n>->MC_ENG_DESKTOP/MC_ENG_NEWS/MC_ENG_BUSINESS_AS/MC_ENG_ROS_NWS_BUS_AS_ATF_728\\n\\nGo PRO @₹99 PRO\\n\\nAdvertisement\\n\\nRemove Ad\\n\\nBusiness\\n\\nMarkets\\n\\nStocks\\n\\nEconomy\\n\\nCompanies\\n\\nTrends\\n\\nIPO\\n\\nOpinion\\n\\nEV Special\\n\\nHomeNewsBusinessTata Motors launches Punch iCNG, price starts at Rs 7.1 lakh\\n\\nTrending Topics\\n\\nNandita SinhaSanathan Textiles IPOInnovision IPO Orient Technologies IPOSensex Today\\n\\nTata Motors launches Punch iCNG, price starts at Rs 7.1 lakh\\nSource: https://www.moneycontrol.com/news/business/tata-motors-launches-punch-icng-price-starts-at-rs-7-1-lakh-11098751.html\\n=========\\nFINAL ANSWER:\"\n",
      "  ]\n",
      "}\n",
      "\u001b[36;1m\u001b[1;3m[llm/end]\u001b[0m \u001b[1m[chain:RetrievalQAWithSourcesChain > chain:StuffDocumentsChain > chain:LLMChain > llm:OpenAI] [1.32s] Exiting LLM run with output:\n",
      "\u001b[0m{\n",
      "  \"generations\": [\n",
      "    [\n",
      "      {\n",
      "        \"text\": \" The Tata Motors Punch iCNG is priced between Rs 7.1 lakh and Rs 8.1 lakh.\\nSOURCES: https://www.moneycontrol.com/news/business/tata-motors-launches-punch-icng-price-starts-at-rs-7-1-lakh-11098751.html\",\n",
      "        \"generation_info\": {\n",
      "          \"finish_reason\": \"stop\",\n",
      "          \"logprobs\": null\n",
      "        },\n",
      "        \"type\": \"Generation\"\n",
      "      }\n",
      "    ]\n",
      "  ],\n",
      "  \"llm_output\": {\n",
      "    \"token_usage\": {\n",
      "      \"prompt_tokens\": 2459,\n",
      "      \"total_tokens\": 2523,\n",
      "      \"completion_tokens\": 64\n",
      "    },\n",
      "    \"model_name\": \"gpt-3.5-turbo-instruct\"\n",
      "  },\n",
      "  \"run\": null\n",
      "}\n",
      "\u001b[36;1m\u001b[1;3m[chain/end]\u001b[0m \u001b[1m[chain:RetrievalQAWithSourcesChain > chain:StuffDocumentsChain > chain:LLMChain] [1.32s] Exiting Chain run with output:\n",
      "\u001b[0m{\n",
      "  \"text\": \" The Tata Motors Punch iCNG is priced between Rs 7.1 lakh and Rs 8.1 lakh.\\nSOURCES: https://www.moneycontrol.com/news/business/tata-motors-launches-punch-icng-price-starts-at-rs-7-1-lakh-11098751.html\"\n",
      "}\n",
      "\u001b[36;1m\u001b[1;3m[chain/end]\u001b[0m \u001b[1m[chain:RetrievalQAWithSourcesChain > chain:StuffDocumentsChain] [1.32s] Exiting Chain run with output:\n",
      "\u001b[0m{\n",
      "  \"output_text\": \" The Tata Motors Punch iCNG is priced between Rs 7.1 lakh and Rs 8.1 lakh.\\nSOURCES: https://www.moneycontrol.com/news/business/tata-motors-launches-punch-icng-price-starts-at-rs-7-1-lakh-11098751.html\"\n",
      "}\n",
      "\u001b[36;1m\u001b[1;3m[chain/end]\u001b[0m \u001b[1m[chain:RetrievalQAWithSourcesChain] [1.76s] Exiting Chain run with output:\n",
      "\u001b[0m{\n",
      "  \"answer\": \" The Tata Motors Punch iCNG is priced between Rs 7.1 lakh and Rs 8.1 lakh.\\n\",\n",
      "  \"sources\": \"https://www.moneycontrol.com/news/business/tata-motors-launches-punch-icng-price-starts-at-rs-7-1-lakh-11098751.html\"\n",
      "}\n"
     ]
    },
    {
     "data": {
      "text/plain": [
       "{'answer': ' The Tata Motors Punch iCNG is priced between Rs 7.1 lakh and Rs 8.1 lakh.\\n',\n",
       " 'sources': 'https://www.moneycontrol.com/news/business/tata-motors-launches-punch-icng-price-starts-at-rs-7-1-lakh-11098751.html'}"
      ]
     },
     "execution_count": 23,
     "metadata": {},
     "output_type": "execute_result"
    }
   ],
   "source": [
    "query = \"what is the price of Tiago iCNG?\"\n",
    "# query = \"what are the main features of punch iCNG?\"\n",
    "\n",
    "langchain.debug=True\n",
    "\n",
    "chain.invoke({\"question\": query}, return_only_outputs=True)"
   ]
  }
 ],
 "metadata": {
  "kernelspec": {
   "display_name": "llm-news-research-tool-using-langchain",
   "language": "python",
   "name": "python3"
  },
  "language_info": {
   "codemirror_mode": {
    "name": "ipython",
    "version": 3
   },
   "file_extension": ".py",
   "mimetype": "text/x-python",
   "name": "python",
   "nbconvert_exporter": "python",
   "pygments_lexer": "ipython3",
   "version": "3.12.4"
  }
 },
 "nbformat": 4,
 "nbformat_minor": 2
}
